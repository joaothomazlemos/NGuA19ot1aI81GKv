{
 "cells": [
  {
   "cell_type": "markdown",
   "metadata": {},
   "source": [
    "# 1 The objective of this notebook is to analyze the data from the dataset and set up a reference metric with a baseline model"
   ]
  },
  {
   "cell_type": "markdown",
   "metadata": {},
   "source": [
    "## Data description\n",
    "\n",
    "Data Description:\n",
    "\n",
    "The data comes from direct marketing efforts of a European banking institution. The marketing campaign involves making a phone call to a customer, often multiple times to ensure a product subscription, in this case a term deposit. Term deposits are usually short-term deposits with maturities ranging from one month to a few years. The customer must understand when buying a term deposit that they can withdraw their funds only after the term ends. All customer information that might reveal personal information is removed due to privacy concerns.\n",
    "\n",
    "Attributes:\n",
    "\n",
    "age : age of customer (numeric)\n",
    "\n",
    "job : type of job (categorical)\n",
    "\n",
    "marital : marital status (categorical)\n",
    "\n",
    "education (categorical)\n",
    "\n",
    "default: has credit in default? (binary)\n",
    "\n",
    "balance: average yearly balance, in euros (numeric)\n",
    "\n",
    "housing: has a housing loan? (binary)\n",
    "\n",
    "loan: has personal loan? (binary)\n",
    "\n",
    "contact: contact communication type (categorical)\n",
    "\n",
    "day: last contact day of the month (numeric)\n",
    "\n",
    "month: last contact month of year (categorical)\n",
    "\n",
    "duration: last contact duration, in seconds (numeric)\n",
    "\n",
    "campaign: number of contacts performed during this campaign and for this client (numeric, includes last contact)\n",
    "\n",
    "Output (desired target):\n",
    "\n",
    "y - has the client subscribed to a term deposit? (binary)"
   ]
  },
  {
   "cell_type": "code",
   "execution_count": 2,
   "metadata": {},
   "outputs": [],
   "source": [
    "#---------Importing libraries---------#\n",
    "\n",
    "#---Data analysis---#\n",
    "import pandas as pd\n",
    "import numpy as np\n",
    "\n",
    "\n",
    "#---Data visualization---#\n",
    "import matplotlib.pyplot as plt\n",
    "import seaborn as sns\n",
    "\n",
    "#---Data preprocessing---#\n",
    "from sklearn.preprocessing import StandardScaler\n",
    "from sklearn.model_selection import train_test_split\n",
    "from sklearn.preprocessing import LabelEncoder\n",
    "from imblearn.over_sampling import SMOTENC, SMOTE\n",
    "\n",
    "#---Modeling---#\n",
    "from sklearn.linear_model import LogisticRegression\n",
    "\n",
    "#---utils---#\n",
    "import os\n",
    "\n",
    "#ignore warnings\n",
    "import warnings\n",
    "warnings.filterwarnings('ignore')\n"
   ]
  },
  {
   "cell_type": "markdown",
   "metadata": {},
   "source": [
    "## Step 1: Data Loading and Inspection\n",
    "\n",
    " - Load the dataset into a pandas DataFrame.\n",
    "- Check the dimensions of the dataset (number of rows and columns).\n",
    "- Examine the first few rows of the dataset to get an initial understanding of the data.\n",
    "- Check for any missing values in the dataset."
   ]
  },
  {
   "cell_type": "code",
   "execution_count": 3,
   "metadata": {},
   "outputs": [
    {
     "data": {
      "text/html": [
       "<div>\n",
       "<style scoped>\n",
       "    .dataframe tbody tr th:only-of-type {\n",
       "        vertical-align: middle;\n",
       "    }\n",
       "\n",
       "    .dataframe tbody tr th {\n",
       "        vertical-align: top;\n",
       "    }\n",
       "\n",
       "    .dataframe thead th {\n",
       "        text-align: right;\n",
       "    }\n",
       "</style>\n",
       "<table border=\"1\" class=\"dataframe\">\n",
       "  <thead>\n",
       "    <tr style=\"text-align: right;\">\n",
       "      <th></th>\n",
       "      <th>age</th>\n",
       "      <th>job</th>\n",
       "      <th>marital</th>\n",
       "      <th>education</th>\n",
       "      <th>default</th>\n",
       "      <th>balance</th>\n",
       "      <th>housing</th>\n",
       "      <th>loan</th>\n",
       "      <th>contact</th>\n",
       "      <th>day</th>\n",
       "      <th>month</th>\n",
       "      <th>duration</th>\n",
       "      <th>campaign</th>\n",
       "      <th>y</th>\n",
       "    </tr>\n",
       "  </thead>\n",
       "  <tbody>\n",
       "    <tr>\n",
       "      <th>0</th>\n",
       "      <td>58</td>\n",
       "      <td>management</td>\n",
       "      <td>married</td>\n",
       "      <td>tertiary</td>\n",
       "      <td>no</td>\n",
       "      <td>2143</td>\n",
       "      <td>yes</td>\n",
       "      <td>no</td>\n",
       "      <td>unknown</td>\n",
       "      <td>5</td>\n",
       "      <td>may</td>\n",
       "      <td>261</td>\n",
       "      <td>1</td>\n",
       "      <td>no</td>\n",
       "    </tr>\n",
       "    <tr>\n",
       "      <th>1</th>\n",
       "      <td>44</td>\n",
       "      <td>technician</td>\n",
       "      <td>single</td>\n",
       "      <td>secondary</td>\n",
       "      <td>no</td>\n",
       "      <td>29</td>\n",
       "      <td>yes</td>\n",
       "      <td>no</td>\n",
       "      <td>unknown</td>\n",
       "      <td>5</td>\n",
       "      <td>may</td>\n",
       "      <td>151</td>\n",
       "      <td>1</td>\n",
       "      <td>no</td>\n",
       "    </tr>\n",
       "    <tr>\n",
       "      <th>2</th>\n",
       "      <td>33</td>\n",
       "      <td>entrepreneur</td>\n",
       "      <td>married</td>\n",
       "      <td>secondary</td>\n",
       "      <td>no</td>\n",
       "      <td>2</td>\n",
       "      <td>yes</td>\n",
       "      <td>yes</td>\n",
       "      <td>unknown</td>\n",
       "      <td>5</td>\n",
       "      <td>may</td>\n",
       "      <td>76</td>\n",
       "      <td>1</td>\n",
       "      <td>no</td>\n",
       "    </tr>\n",
       "    <tr>\n",
       "      <th>3</th>\n",
       "      <td>47</td>\n",
       "      <td>blue-collar</td>\n",
       "      <td>married</td>\n",
       "      <td>unknown</td>\n",
       "      <td>no</td>\n",
       "      <td>1506</td>\n",
       "      <td>yes</td>\n",
       "      <td>no</td>\n",
       "      <td>unknown</td>\n",
       "      <td>5</td>\n",
       "      <td>may</td>\n",
       "      <td>92</td>\n",
       "      <td>1</td>\n",
       "      <td>no</td>\n",
       "    </tr>\n",
       "    <tr>\n",
       "      <th>4</th>\n",
       "      <td>33</td>\n",
       "      <td>unknown</td>\n",
       "      <td>single</td>\n",
       "      <td>unknown</td>\n",
       "      <td>no</td>\n",
       "      <td>1</td>\n",
       "      <td>no</td>\n",
       "      <td>no</td>\n",
       "      <td>unknown</td>\n",
       "      <td>5</td>\n",
       "      <td>may</td>\n",
       "      <td>198</td>\n",
       "      <td>1</td>\n",
       "      <td>no</td>\n",
       "    </tr>\n",
       "  </tbody>\n",
       "</table>\n",
       "</div>"
      ],
      "text/plain": [
       "   age           job  marital  education default  balance housing loan  \\\n",
       "0   58    management  married   tertiary      no     2143     yes   no   \n",
       "1   44    technician   single  secondary      no       29     yes   no   \n",
       "2   33  entrepreneur  married  secondary      no        2     yes  yes   \n",
       "3   47   blue-collar  married    unknown      no     1506     yes   no   \n",
       "4   33       unknown   single    unknown      no        1      no   no   \n",
       "\n",
       "   contact  day month  duration  campaign   y  \n",
       "0  unknown    5   may       261         1  no  \n",
       "1  unknown    5   may       151         1  no  \n",
       "2  unknown    5   may        76         1  no  \n",
       "3  unknown    5   may        92         1  no  \n",
       "4  unknown    5   may       198         1  no  "
      ]
     },
     "execution_count": 3,
     "metadata": {},
     "output_type": "execute_result"
    }
   ],
   "source": [
    "df = pd.read_csv('../data/raw/term-deposit-marketing-2020.csv')\n",
    "df.head()"
   ]
  },
  {
   "cell_type": "code",
   "execution_count": 4,
   "metadata": {},
   "outputs": [
    {
     "name": "stdout",
     "output_type": "stream",
     "text": [
      "<class 'pandas.core.frame.DataFrame'>\n",
      "RangeIndex: 40000 entries, 0 to 39999\n",
      "Data columns (total 14 columns):\n",
      " #   Column     Non-Null Count  Dtype \n",
      "---  ------     --------------  ----- \n",
      " 0   age        40000 non-null  int64 \n",
      " 1   job        40000 non-null  object\n",
      " 2   marital    40000 non-null  object\n",
      " 3   education  40000 non-null  object\n",
      " 4   default    40000 non-null  object\n",
      " 5   balance    40000 non-null  int64 \n",
      " 6   housing    40000 non-null  object\n",
      " 7   loan       40000 non-null  object\n",
      " 8   contact    40000 non-null  object\n",
      " 9   day        40000 non-null  int64 \n",
      " 10  month      40000 non-null  object\n",
      " 11  duration   40000 non-null  int64 \n",
      " 12  campaign   40000 non-null  int64 \n",
      " 13  y          40000 non-null  object\n",
      "dtypes: int64(5), object(9)\n",
      "memory usage: 4.3+ MB\n"
     ]
    }
   ],
   "source": [
    "df.info()"
   ]
  },
  {
   "cell_type": "markdown",
   "metadata": {},
   "source": [
    "We can see that  the dataset have none missing values, and a lot of datapoints, 40k.\n",
    "Also, There is features as objects, that could be all into the category data type.\n",
    "We will first change the data type of the features that are objects, and then we will see the distribution of the data.\n",
    "For this, we want to know the number of unique features in each column to decide how we are going to categorize the object columns."
   ]
  },
  {
   "cell_type": "markdown",
   "metadata": {},
   "source": [
    "## Step 2: Data Cleaning and Preprocessing\n",
    "\n",
    " - Handle missing values, if any, by either imputing them or removing rows/columns with missing values, depending on the situation.\n",
    "- Convert categorical variables into appropriate data types (e.g., convert 'month' and 'contact' to categorical data type).\n",
    "- Encode binary categorical variables ('default', 'housing', 'loan', and 'y') into numeric format (0 and 1) for modeling purposes."
   ]
  },
  {
   "cell_type": "code",
   "execution_count": 5,
   "metadata": {},
   "outputs": [
    {
     "name": "stdout",
     "output_type": "stream",
     "text": [
      "job 12\n",
      "marital 3\n",
      "education 4\n",
      "default 2\n",
      "housing 2\n",
      "loan 2\n",
      "contact 3\n",
      "month 11\n",
      "y 2\n"
     ]
    }
   ],
   "source": [
    "#checking unique values in each column when the column type is object\n",
    "\n",
    "\n",
    "for col in df.columns:\n",
    "    if df[col].dtype == 'object':\n",
    "        print(col, df[col].nunique())"
   ]
  },
  {
   "cell_type": "code",
   "execution_count": 6,
   "metadata": {},
   "outputs": [
    {
     "data": {
      "text/plain": [
       "dtype('int64')"
      ]
     },
     "execution_count": 6,
     "metadata": {},
     "output_type": "execute_result"
    }
   ],
   "source": [
    "#converting month into datetime, when the data is the name of the month only\n",
    "df['month'] = pd.to_datetime(df['month'], format='%b').dt.month\n",
    "\n",
    "#results\n",
    "df['month'].dtypes"
   ]
  },
  {
   "cell_type": "code",
   "execution_count": 7,
   "metadata": {},
   "outputs": [
    {
     "data": {
      "text/plain": [
       "0    5\n",
       "1    5\n",
       "2    5\n",
       "3    5\n",
       "4    5\n",
       "Name: month, dtype: int64"
      ]
     },
     "execution_count": 7,
     "metadata": {},
     "output_type": "execute_result"
    }
   ],
   "source": [
    "df['month'].head()"
   ]
  },
  {
   "cell_type": "code",
   "execution_count": 8,
   "metadata": {},
   "outputs": [
    {
     "name": "stdout",
     "output_type": "stream",
     "text": [
      "Binary features:  ['default', 'housing', 'loan']\n",
      "Categorical features:  ['job', 'marital', 'education', 'contact']\n"
     ]
    }
   ],
   "source": [
    "#storing binary and then categorical data\n",
    "#binary data\n",
    "binary_features = [col for col in df.columns if df[col].nunique() == 2 and df[col].dtypes == 'object' and col != 'y']\n",
    "# categorical data\n",
    "categorical_features = [col for col in df.columns if  df[col].nunique() > 2 and df[col].dtypes == 'object']\n",
    "\n",
    "#showing results\n",
    "print('Binary features: ', binary_features)\n",
    "print('Categorical features: ', categorical_features)"
   ]
  },
  {
   "cell_type": "code",
   "execution_count": 9,
   "metadata": {},
   "outputs": [
    {
     "name": "stdout",
     "output_type": "stream",
     "text": [
      "Binary features\n",
      "\n",
      "Column_binary:  default\n",
      "Unique values:  ['no' 'yes']\n",
      "Number of unique values:  2\n",
      "Column_binary:  housing\n",
      "Unique values:  ['yes' 'no']\n",
      "Number of unique values:  2\n",
      "Column_binary:  loan\n",
      "Unique values:  ['no' 'yes']\n",
      "Number of unique values:  2\n",
      "\n",
      "Categorical  features\n",
      "\n",
      "Column_categorical:  job\n",
      "Unique values:  ['management' 'technician' 'entrepreneur' 'blue-collar' 'unknown'\n",
      " 'retired' 'admin' 'services' 'self-employed' 'unemployed' 'housemaid'\n",
      " 'student']\n",
      "Number of unique values:  12\n",
      "\n",
      "\n",
      "Column_categorical:  marital\n",
      "Unique values:  ['married' 'single' 'divorced']\n",
      "Number of unique values:  3\n",
      "\n",
      "\n",
      "Column_categorical:  education\n",
      "Unique values:  ['tertiary' 'secondary' 'unknown' 'primary']\n",
      "Number of unique values:  4\n",
      "\n",
      "\n",
      "Column_categorical:  contact\n",
      "Unique values:  ['unknown' 'cellular' 'telephone']\n",
      "Number of unique values:  3\n",
      "\n",
      "\n"
     ]
    }
   ],
   "source": [
    "#values of the columns\n",
    "print('Binary features\\n')\n",
    "for col in binary_features:\n",
    "    print('Column_binary: ', col)\n",
    "    print('Unique values: ', df[col].unique())\n",
    "    print('Number of unique values: ', len(df[col].unique()))\n",
    "\n",
    "print('\\nCategorical  features\\n')\n",
    "for col in categorical_features:\n",
    "    print('Column_categorical: ', col)\n",
    "    print('Unique values: ', df[col].unique())\n",
    "    print('Number of unique values: ', len(df[col].unique()))\n",
    "    print('\\n')"
   ]
  },
  {
   "cell_type": "code",
   "execution_count": 10,
   "metadata": {},
   "outputs": [],
   "source": [
    "#converting data to the right dtype. Also, age will be converted to a categorical variable\n",
    "\n",
    "# defing the funtion to convert the data to the right dtype\n",
    "def convert_features(df: object):\n",
    "    \"\"\"\n",
    "    Converts the data to the right dtype\n",
    "    \"\"\"\n",
    "    binary_features = [col for col in df.columns if df[col].nunique() == 2 and df[col].dtypes == 'object' ]\n",
    "    categorical_features = [col for col in df.columns if df[col].nunique() > 2 and df[col].dtypes == 'object' and col != 'y']\n",
    "    \n",
    "\n",
    "    # converting binary features to 0 and 1\n",
    "    df[binary_features] = df[binary_features].replace({'no': 0, 'yes': 1})\n",
    "\n",
    "    # converting categorical features to dummy variables\n",
    "    df[categorical_features] = df[categorical_features].astype('category')\n",
    "\n",
    "\n",
    "   \n",
    "    \n",
    "\n",
    "    return df\n",
    "    \n"
   ]
  },
  {
   "cell_type": "code",
   "execution_count": 11,
   "metadata": {},
   "outputs": [
    {
     "name": "stdout",
     "output_type": "stream",
     "text": [
      "<class 'pandas.core.frame.DataFrame'>\n",
      "RangeIndex: 40000 entries, 0 to 39999\n",
      "Data columns (total 14 columns):\n",
      " #   Column     Non-Null Count  Dtype   \n",
      "---  ------     --------------  -----   \n",
      " 0   age        40000 non-null  int64   \n",
      " 1   job        40000 non-null  category\n",
      " 2   marital    40000 non-null  category\n",
      " 3   education  40000 non-null  category\n",
      " 4   default    40000 non-null  int64   \n",
      " 5   balance    40000 non-null  int64   \n",
      " 6   housing    40000 non-null  int64   \n",
      " 7   loan       40000 non-null  int64   \n",
      " 8   contact    40000 non-null  category\n",
      " 9   day        40000 non-null  int64   \n",
      " 10  month      40000 non-null  int64   \n",
      " 11  duration   40000 non-null  int64   \n",
      " 12  campaign   40000 non-null  int64   \n",
      " 13  y          40000 non-null  int64   \n",
      "dtypes: category(4), int64(10)\n",
      "memory usage: 3.2 MB\n"
     ]
    }
   ],
   "source": [
    "#converting the data into a dataframe with desired dtypes\n",
    "\n",
    "convert_features(df)\n",
    "\n",
    "df.info()"
   ]
  },
  {
   "cell_type": "code",
   "execution_count": 12,
   "metadata": {},
   "outputs": [
    {
     "data": {
      "text/plain": [
       "['job', 'marital', 'education', 'contact', 'age']"
      ]
     },
     "execution_count": 12,
     "metadata": {},
     "output_type": "execute_result"
    }
   ],
   "source": [
    "#UPdate categorical columns\n",
    "categorical_features = categorical_features + ['age']\n",
    "categorical_features"
   ]
  },
  {
   "cell_type": "code",
   "execution_count": 13,
   "metadata": {},
   "outputs": [
    {
     "data": {
      "text/plain": [
       "Index(['age', 'job', 'marital', 'education', 'default', 'balance', 'housing',\n",
       "       'loan', 'contact', 'day', 'month', 'duration', 'campaign', 'y'],\n",
       "      dtype='object')"
      ]
     },
     "execution_count": 13,
     "metadata": {},
     "output_type": "execute_result"
    }
   ],
   "source": [
    "df.columns"
   ]
  },
  {
   "cell_type": "code",
   "execution_count": 14,
   "metadata": {},
   "outputs": [
    {
     "name": "stdout",
     "output_type": "stream",
     "text": [
      "Unique values of the categories that has unkown values\n",
      "-----------------------------------\n",
      "age : 0\n",
      "Percentage of unknown values in age : 0.0 %\n",
      "Unique values of age : [58 44 33 47 35 28 42 43 41 29 53 57 51 45 60 56 32 25 40 39 52 46 36 49\n",
      " 59 37 50 54 55 48 24 38 31 30 27 34 23 26 61 22 21 20 66 62 83 75 67 70\n",
      " 65 68 64 69 72 71 19 76 85 63 90 82 73 74 78 80 94 79 77 86 95 81]\n",
      "-----------------------------------\n",
      "job : 235\n",
      "Percentage of unknown values in job : 0.59 %\n",
      "Unique values of job : ['management', 'technician', 'entrepreneur', 'blue-collar', 'unknown', ..., 'services', 'self-employed', 'unemployed', 'housemaid', 'student']\n",
      "Length: 12\n",
      "Categories (12, object): ['admin', 'blue-collar', 'entrepreneur', 'housemaid', ..., 'student', 'technician', 'unemployed', 'unknown']\n",
      "-----------------------------------\n",
      "marital : 0\n",
      "Percentage of unknown values in marital : 0.0 %\n",
      "Unique values of marital : ['married', 'single', 'divorced']\n",
      "Categories (3, object): ['divorced', 'married', 'single']\n",
      "-----------------------------------\n",
      "education : 1531\n",
      "Percentage of unknown values in education : 3.83 %\n",
      "Unique values of education : ['tertiary', 'secondary', 'unknown', 'primary']\n",
      "Categories (4, object): ['primary', 'secondary', 'tertiary', 'unknown']\n",
      "-----------------------------------\n",
      "default : 0\n",
      "Percentage of unknown values in default : 0.0 %\n",
      "Unique values of default : [0 1]\n",
      "-----------------------------------\n",
      "balance : 0\n",
      "Percentage of unknown values in balance : 0.0 %\n",
      "Unique values of balance : [  2143     29      2 ...   7222   3402 102127]\n",
      "-----------------------------------\n",
      "housing : 0\n",
      "Percentage of unknown values in housing : 0.0 %\n",
      "Unique values of housing : [1 0]\n",
      "-----------------------------------\n",
      "loan : 0\n",
      "Percentage of unknown values in loan : 0.0 %\n",
      "Unique values of loan : [0 1]\n",
      "-----------------------------------\n",
      "contact : 12765\n",
      "Percentage of unknown values in contact : 31.91 %\n",
      "Unique values of contact : ['unknown', 'cellular', 'telephone']\n",
      "Categories (3, object): ['cellular', 'telephone', 'unknown']\n",
      "-----------------------------------\n",
      "day : 0\n",
      "Percentage of unknown values in day : 0.0 %\n",
      "Unique values of day : [ 5  6  7  8  9 12 13 14 15 16 19 20 21 23 26 27 28 29 30  2  3  4 11 17\n",
      " 18 24 25  1 10 22 31]\n",
      "-----------------------------------\n",
      "month : 0\n",
      "Percentage of unknown values in month : 0.0 %\n",
      "Unique values of month : [ 5  6  7  8 10 11 12  1  2  3  4]\n",
      "-----------------------------------\n",
      "duration : 0\n",
      "Percentage of unknown values in duration : 0.0 %\n",
      "Unique values of duration : [ 261  151   76 ... 1880 1460 2219]\n",
      "-----------------------------------\n",
      "campaign : 0\n",
      "Percentage of unknown values in campaign : 0.0 %\n",
      "Unique values of campaign : [ 1  2  3  5  4  6  7  8  9 10 11 12 13 19 14 24 16 32 18 22 15 17 25 21\n",
      " 43 51 63 41 26 28 55 50 38 23 20 29 31 37 30 46 27 58 33 35 34 36 39 44]\n",
      "-----------------------------------\n",
      "y : 0\n",
      "Percentage of unknown values in y : 0.0 %\n",
      "Unique values of y : [0 1]\n"
     ]
    }
   ],
   "source": [
    "#well, lets check the unique valuesof the categories that has unkown values.\n",
    "\n",
    "print(\"Unique values of the categories that has unkown values\")\n",
    "\n",
    "for col in df.columns:\n",
    "    \n",
    "    print('-----------------------------------')\n",
    "    print( col, ':', df[df[col] == 'unknown'].shape[0])\n",
    "    print('Percentage of unknown values in', col, ':', round(df[df[col] == 'unknown'].shape[0]/df.shape[0]*100, 2), '%')\n",
    "    print('Unique values of', col, ':', df[col].unique())\n"
   ]
  },
  {
   "cell_type": "markdown",
   "metadata": {},
   "source": [
    "Checking the correlation matrix of features"
   ]
  },
  {
   "cell_type": "markdown",
   "metadata": {},
   "source": [
    "Well, we can see that the mo"
   ]
  },
  {
   "cell_type": "markdown",
   "metadata": {},
   "source": [
    "\n",
    "\n",
    "As rule of thumb, we could drop the rows of the dataset if the percentage of missing values is low liek 'education' (say, less than 5%). Otherwise, we should drop the columns, unless the part of it that is not missing is very important for the model."
   ]
  },
  {
   "cell_type": "code",
   "execution_count": 15,
   "metadata": {},
   "outputs": [],
   "source": [
    "\n",
    "for col in df.columns:\n",
    "    percentage_unknown = df[df[col] == 'unknown'].shape[0]/df.shape[0]*100\n",
    "    if percentage_unknown < 5: # we drop the rows with unknown values if they are less then 5 percent\n",
    "        df.drop(labels = df[df[col] == 'unknown'].index, inplace = True, axis = 0)\n",
    "    # if the percentage of unknown values is between 5 and 15 percent, we replace the unknown values with the most frequent value\n",
    "    # to prevent the loss of information\n",
    "    else:\n",
    "        #imputation method : mode\n",
    "        df[col].replace('unknown', df[col].value_counts().idxmax(), inplace = True) # replace unknown with the most frequent value\n",
    "\n"
   ]
  },
  {
   "cell_type": "code",
   "execution_count": 16,
   "metadata": {},
   "outputs": [
    {
     "data": {
      "text/plain": [
       "0.0"
      ]
     },
     "execution_count": 16,
     "metadata": {},
     "output_type": "execute_result"
    }
   ],
   "source": [
    "df[df['education'] == 'unknown'].shape[0]/df.shape[0]*100"
   ]
  },
  {
   "cell_type": "code",
   "execution_count": 17,
   "metadata": {},
   "outputs": [
    {
     "name": "stdout",
     "output_type": "stream",
     "text": [
      "<class 'pandas.core.frame.DataFrame'>\n",
      "Int64Index: 38338 entries, 0 to 39999\n",
      "Data columns (total 14 columns):\n",
      " #   Column     Non-Null Count  Dtype   \n",
      "---  ------     --------------  -----   \n",
      " 0   age        38338 non-null  int64   \n",
      " 1   job        38338 non-null  category\n",
      " 2   marital    38338 non-null  category\n",
      " 3   education  38338 non-null  category\n",
      " 4   default    38338 non-null  int64   \n",
      " 5   balance    38338 non-null  int64   \n",
      " 6   housing    38338 non-null  int64   \n",
      " 7   loan       38338 non-null  int64   \n",
      " 8   contact    38338 non-null  category\n",
      " 9   day        38338 non-null  int64   \n",
      " 10  month      38338 non-null  int64   \n",
      " 11  duration   38338 non-null  int64   \n",
      " 12  campaign   38338 non-null  int64   \n",
      " 13  y          38338 non-null  int64   \n",
      "dtypes: category(4), int64(10)\n",
      "memory usage: 3.4 MB\n"
     ]
    }
   ],
   "source": [
    "df.info()"
   ]
  },
  {
   "cell_type": "code",
   "execution_count": 18,
   "metadata": {},
   "outputs": [
    {
     "data": {
      "text/plain": [
       "['job', 'marital', 'education', 'contact', 'age']"
      ]
     },
     "execution_count": 18,
     "metadata": {},
     "output_type": "execute_result"
    }
   ],
   "source": [
    "categorical_features"
   ]
  },
  {
   "cell_type": "markdown",
   "metadata": {},
   "source": [
    "As we can see, contact col was droped because it represented more than  15%, and some cols that had few unknowns had their index from whole df removed. by the end of the process, we dropped almost 1700 rows , left more than 38k."
   ]
  },
  {
   "cell_type": "markdown",
   "metadata": {},
   "source": [
    "## Step 3: Data Exploration and Visualization\n",
    "\n",
    "- Explore the distribution of the target variable 'y' (term deposit subscription) to understand the class balance (whether it's imbalanced or not).\n",
    "- Analyze the distribution of each numerical feature (e.g., 'age', 'balance', 'day', 'duration', 'campaign') using histograms and other visualizations.\n",
    "- Visualize the relationships between the target variable and other numerical features using box plots, scatter plots, or violin plots, as well as correlation matrix plots.\n",
    "- Examine the distribution of categorical features ('job', 'marital', 'education', 'month') using bar plots or count plots.\n",
    "\n"
   ]
  },
  {
   "cell_type": "code",
   "execution_count": 19,
   "metadata": {},
   "outputs": [
    {
     "data": {
      "image/png": "[encoded data removed]",
      "text/plain": [
       "<Figure size 640x480 with 1 Axes>"
      ]
     },
     "metadata": {},
     "output_type": "display_data"
    }
   ],
   "source": [
    "# checking for data target y imbalance\n",
    "\n",
    "sns.countplot(x='y', data=df)\n",
    "plt.title('Target y distribution')\n",
    "plt.show()"
   ]
  },
  {
   "cell_type": "markdown",
   "metadata": {},
   "source": [
    "This data is very unbalanced, and we will need to take this into account when we train our model. We will use the SMOTE algorithm to oversample the minority class. This will help us to avoid overfitting and improve the accuracy of our model."
   ]
  },
  {
   "cell_type": "markdown",
   "metadata": {},
   "source": [
    "## Step 4: Feature Engineering\n",
    "\n",
    "- Create new features if necessary. For example, you could create a binary feature indicating whether a customer was contacted on a weekday or weekend based on the 'day' column, as well as categoryzing the age feature\n",
    "\n",
    "- Explore feature interactions and transformations that might be useful for modeling."
   ]
  },
  {
   "cell_type": "code",
   "execution_count": 20,
   "metadata": {},
   "outputs": [
    {
     "data": {
      "text/plain": [
       "count    38338.000000\n",
       "mean        40.390057\n",
       "std          9.589451\n",
       "min         19.000000\n",
       "25%         33.000000\n",
       "50%         39.000000\n",
       "75%         48.000000\n",
       "max         95.000000\n",
       "Name: age, dtype: float64"
      ]
     },
     "execution_count": 20,
     "metadata": {},
     "output_type": "execute_result"
    }
   ],
   "source": [
    "# checking for age range\n",
    "df['age'].describe()"
   ]
  },
  {
   "cell_type": "code",
   "execution_count": 21,
   "metadata": {},
   "outputs": [],
   "source": [
    "# converting age to categorical variable\n",
    "df['age'] = pd.cut(df['age'], bins=[18, 30, 60, 100], labels=['adult', 'mid-aged', 'elderly'])\n"
   ]
  },
  {
   "cell_type": "code",
   "execution_count": 22,
   "metadata": {},
   "outputs": [
    {
     "data": {
      "text/html": [
       "<div>\n",
       "<style scoped>\n",
       "    .dataframe tbody tr th:only-of-type {\n",
       "        vertical-align: middle;\n",
       "    }\n",
       "\n",
       "    .dataframe tbody tr th {\n",
       "        vertical-align: top;\n",
       "    }\n",
       "\n",
       "    .dataframe thead th {\n",
       "        text-align: right;\n",
       "    }\n",
       "</style>\n",
       "<table border=\"1\" class=\"dataframe\">\n",
       "  <thead>\n",
       "    <tr style=\"text-align: right;\">\n",
       "      <th></th>\n",
       "      <th>age</th>\n",
       "      <th>job</th>\n",
       "      <th>marital</th>\n",
       "      <th>education</th>\n",
       "      <th>default</th>\n",
       "      <th>balance</th>\n",
       "      <th>housing</th>\n",
       "      <th>loan</th>\n",
       "      <th>contact</th>\n",
       "      <th>day</th>\n",
       "      <th>month</th>\n",
       "      <th>duration</th>\n",
       "      <th>campaign</th>\n",
       "      <th>y</th>\n",
       "    </tr>\n",
       "  </thead>\n",
       "  <tbody>\n",
       "    <tr>\n",
       "      <th>0</th>\n",
       "      <td>mid-aged</td>\n",
       "      <td>management</td>\n",
       "      <td>married</td>\n",
       "      <td>tertiary</td>\n",
       "      <td>0</td>\n",
       "      <td>2143</td>\n",
       "      <td>1</td>\n",
       "      <td>0</td>\n",
       "      <td>cellular</td>\n",
       "      <td>5</td>\n",
       "      <td>5</td>\n",
       "      <td>261</td>\n",
       "      <td>1</td>\n",
       "      <td>0</td>\n",
       "    </tr>\n",
       "    <tr>\n",
       "      <th>1</th>\n",
       "      <td>mid-aged</td>\n",
       "      <td>technician</td>\n",
       "      <td>single</td>\n",
       "      <td>secondary</td>\n",
       "      <td>0</td>\n",
       "      <td>29</td>\n",
       "      <td>1</td>\n",
       "      <td>0</td>\n",
       "      <td>cellular</td>\n",
       "      <td>5</td>\n",
       "      <td>5</td>\n",
       "      <td>151</td>\n",
       "      <td>1</td>\n",
       "      <td>0</td>\n",
       "    </tr>\n",
       "    <tr>\n",
       "      <th>2</th>\n",
       "      <td>mid-aged</td>\n",
       "      <td>entrepreneur</td>\n",
       "      <td>married</td>\n",
       "      <td>secondary</td>\n",
       "      <td>0</td>\n",
       "      <td>2</td>\n",
       "      <td>1</td>\n",
       "      <td>1</td>\n",
       "      <td>cellular</td>\n",
       "      <td>5</td>\n",
       "      <td>5</td>\n",
       "      <td>76</td>\n",
       "      <td>1</td>\n",
       "      <td>0</td>\n",
       "    </tr>\n",
       "    <tr>\n",
       "      <th>5</th>\n",
       "      <td>mid-aged</td>\n",
       "      <td>management</td>\n",
       "      <td>married</td>\n",
       "      <td>tertiary</td>\n",
       "      <td>0</td>\n",
       "      <td>231</td>\n",
       "      <td>1</td>\n",
       "      <td>0</td>\n",
       "      <td>cellular</td>\n",
       "      <td>5</td>\n",
       "      <td>5</td>\n",
       "      <td>139</td>\n",
       "      <td>1</td>\n",
       "      <td>0</td>\n",
       "    </tr>\n",
       "    <tr>\n",
       "      <th>6</th>\n",
       "      <td>adult</td>\n",
       "      <td>management</td>\n",
       "      <td>single</td>\n",
       "      <td>tertiary</td>\n",
       "      <td>0</td>\n",
       "      <td>447</td>\n",
       "      <td>1</td>\n",
       "      <td>1</td>\n",
       "      <td>cellular</td>\n",
       "      <td>5</td>\n",
       "      <td>5</td>\n",
       "      <td>217</td>\n",
       "      <td>1</td>\n",
       "      <td>0</td>\n",
       "    </tr>\n",
       "  </tbody>\n",
       "</table>\n",
       "</div>"
      ],
      "text/plain": [
       "        age           job  marital  education  default  balance  housing  \\\n",
       "0  mid-aged    management  married   tertiary        0     2143        1   \n",
       "1  mid-aged    technician   single  secondary        0       29        1   \n",
       "2  mid-aged  entrepreneur  married  secondary        0        2        1   \n",
       "5  mid-aged    management  married   tertiary        0      231        1   \n",
       "6     adult    management   single   tertiary        0      447        1   \n",
       "\n",
       "   loan   contact  day  month  duration  campaign  y  \n",
       "0     0  cellular    5      5       261         1  0  \n",
       "1     0  cellular    5      5       151         1  0  \n",
       "2     1  cellular    5      5        76         1  0  \n",
       "5     0  cellular    5      5       139         1  0  \n",
       "6     1  cellular    5      5       217         1  0  "
      ]
     },
     "execution_count": 22,
     "metadata": {},
     "output_type": "execute_result"
    }
   ],
   "source": [
    "#checnking our head of the df\n",
    "df.head()"
   ]
  },
  {
   "cell_type": "code",
   "execution_count": 23,
   "metadata": {},
   "outputs": [
    {
     "name": "stdout",
     "output_type": "stream",
     "text": [
      "<class 'pandas.core.frame.DataFrame'>\n",
      "Int64Index: 38338 entries, 0 to 39999\n",
      "Data columns (total 14 columns):\n",
      " #   Column     Non-Null Count  Dtype   \n",
      "---  ------     --------------  -----   \n",
      " 0   age        38338 non-null  category\n",
      " 1   job        38338 non-null  category\n",
      " 2   marital    38338 non-null  category\n",
      " 3   education  38338 non-null  category\n",
      " 4   default    38338 non-null  int64   \n",
      " 5   balance    38338 non-null  int64   \n",
      " 6   housing    38338 non-null  int64   \n",
      " 7   loan       38338 non-null  int64   \n",
      " 8   contact    38338 non-null  category\n",
      " 9   day        38338 non-null  int64   \n",
      " 10  month      38338 non-null  int64   \n",
      " 11  duration   38338 non-null  int64   \n",
      " 12  campaign   38338 non-null  int64   \n",
      " 13  y          38338 non-null  int64   \n",
      "dtypes: category(5), int64(9)\n",
      "memory usage: 3.1 MB\n"
     ]
    }
   ],
   "source": [
    "df.info()"
   ]
  },
  {
   "cell_type": "code",
   "execution_count": 24,
   "metadata": {},
   "outputs": [
    {
     "name": "stdout",
     "output_type": "stream",
     "text": [
      "\n",
      "job has ['management', 'technician', 'entrepreneur', 'retired', 'admin', ..., 'blue-collar', 'self-employed', 'unemployed', 'housemaid', 'student']\n",
      "Length: 11\n",
      "Categories (12, object): ['admin', 'blue-collar', 'entrepreneur', 'housemaid', ..., 'student', 'technician', 'unemployed', 'unknown']\n",
      "\n",
      "marital has ['married', 'single', 'divorced']\n",
      "Categories (3, object): ['divorced', 'married', 'single']\n",
      "\n",
      "education has ['tertiary', 'secondary', 'primary']\n",
      "Categories (4, object): ['primary', 'secondary', 'tertiary', 'unknown']\n",
      "\n",
      "contact has ['cellular', 'telephone']\n",
      "Categories (2, object): ['cellular', 'telephone']\n",
      "\n",
      "age has ['mid-aged', 'adult', 'elderly']\n",
      "Categories (3, object): ['adult' < 'mid-aged' < 'elderly']\n"
     ]
    }
   ],
   "source": [
    "#we now check our categorical data\n",
    "\n",
    "for cat in categorical_features:\n",
    "    print(f'\\n{cat} has {df[cat].unique()}')"
   ]
  },
  {
   "cell_type": "markdown",
   "metadata": {},
   "source": [
    "# Encoding strat\n",
    "\n",
    "There are features that will be encoded as ordinals: age and education;\n",
    "\n",
    "There are features that will be encoded with label encoder."
   ]
  },
  {
   "cell_type": "code",
   "execution_count": 25,
   "metadata": {},
   "outputs": [
    {
     "data": {
      "text/html": [
       "<div>\n",
       "<style scoped>\n",
       "    .dataframe tbody tr th:only-of-type {\n",
       "        vertical-align: middle;\n",
       "    }\n",
       "\n",
       "    .dataframe tbody tr th {\n",
       "        vertical-align: top;\n",
       "    }\n",
       "\n",
       "    .dataframe thead th {\n",
       "        text-align: right;\n",
       "    }\n",
       "</style>\n",
       "<table border=\"1\" class=\"dataframe\">\n",
       "  <thead>\n",
       "    <tr style=\"text-align: right;\">\n",
       "      <th></th>\n",
       "      <th>age</th>\n",
       "      <th>education</th>\n",
       "    </tr>\n",
       "  </thead>\n",
       "  <tbody>\n",
       "    <tr>\n",
       "      <th>0</th>\n",
       "      <td>2</td>\n",
       "      <td>3</td>\n",
       "    </tr>\n",
       "    <tr>\n",
       "      <th>1</th>\n",
       "      <td>2</td>\n",
       "      <td>2</td>\n",
       "    </tr>\n",
       "    <tr>\n",
       "      <th>2</th>\n",
       "      <td>2</td>\n",
       "      <td>2</td>\n",
       "    </tr>\n",
       "    <tr>\n",
       "      <th>5</th>\n",
       "      <td>2</td>\n",
       "      <td>3</td>\n",
       "    </tr>\n",
       "    <tr>\n",
       "      <th>6</th>\n",
       "      <td>1</td>\n",
       "      <td>3</td>\n",
       "    </tr>\n",
       "  </tbody>\n",
       "</table>\n",
       "</div>"
      ],
      "text/plain": [
       "  age education\n",
       "0   2         3\n",
       "1   2         2\n",
       "2   2         2\n",
       "5   2         3\n",
       "6   1         3"
      ]
     },
     "execution_count": 25,
     "metadata": {},
     "output_type": "execute_result"
    }
   ],
   "source": [
    "#ordinal encoder\n",
    "\n",
    "age_dict = {'unknown':0,'adult': 1, 'mid-aged': 2, 'elderly': 3}\n",
    "df['age'] = df['age'].map(age_dict)\n",
    "\n",
    "education_dict = {'unknown':0,'primary': 1, 'secondary': 2, 'tertiary': 3}\n",
    "df['education'] = df['education'].map(education_dict)\n",
    "\n",
    "df[['age', 'education']].head()"
   ]
  },
  {
   "cell_type": "code",
   "execution_count": 26,
   "metadata": {},
   "outputs": [
    {
     "data": {
      "text/html": [
       "<div>\n",
       "<style scoped>\n",
       "    .dataframe tbody tr th:only-of-type {\n",
       "        vertical-align: middle;\n",
       "    }\n",
       "\n",
       "    .dataframe tbody tr th {\n",
       "        vertical-align: top;\n",
       "    }\n",
       "\n",
       "    .dataframe thead th {\n",
       "        text-align: right;\n",
       "    }\n",
       "</style>\n",
       "<table border=\"1\" class=\"dataframe\">\n",
       "  <thead>\n",
       "    <tr style=\"text-align: right;\">\n",
       "      <th></th>\n",
       "      <th>age</th>\n",
       "      <th>job</th>\n",
       "      <th>marital</th>\n",
       "      <th>education</th>\n",
       "      <th>default</th>\n",
       "      <th>balance</th>\n",
       "      <th>housing</th>\n",
       "      <th>loan</th>\n",
       "      <th>contact</th>\n",
       "      <th>day</th>\n",
       "      <th>month</th>\n",
       "      <th>duration</th>\n",
       "      <th>campaign</th>\n",
       "      <th>y</th>\n",
       "    </tr>\n",
       "  </thead>\n",
       "  <tbody>\n",
       "    <tr>\n",
       "      <th>0</th>\n",
       "      <td>2</td>\n",
       "      <td>4</td>\n",
       "      <td>1</td>\n",
       "      <td>3</td>\n",
       "      <td>0</td>\n",
       "      <td>2143</td>\n",
       "      <td>1</td>\n",
       "      <td>0</td>\n",
       "      <td>0</td>\n",
       "      <td>5</td>\n",
       "      <td>5</td>\n",
       "      <td>261</td>\n",
       "      <td>1</td>\n",
       "      <td>0</td>\n",
       "    </tr>\n",
       "    <tr>\n",
       "      <th>1</th>\n",
       "      <td>2</td>\n",
       "      <td>9</td>\n",
       "      <td>2</td>\n",
       "      <td>2</td>\n",
       "      <td>0</td>\n",
       "      <td>29</td>\n",
       "      <td>1</td>\n",
       "      <td>0</td>\n",
       "      <td>0</td>\n",
       "      <td>5</td>\n",
       "      <td>5</td>\n",
       "      <td>151</td>\n",
       "      <td>1</td>\n",
       "      <td>0</td>\n",
       "    </tr>\n",
       "    <tr>\n",
       "      <th>2</th>\n",
       "      <td>2</td>\n",
       "      <td>2</td>\n",
       "      <td>1</td>\n",
       "      <td>2</td>\n",
       "      <td>0</td>\n",
       "      <td>2</td>\n",
       "      <td>1</td>\n",
       "      <td>1</td>\n",
       "      <td>0</td>\n",
       "      <td>5</td>\n",
       "      <td>5</td>\n",
       "      <td>76</td>\n",
       "      <td>1</td>\n",
       "      <td>0</td>\n",
       "    </tr>\n",
       "    <tr>\n",
       "      <th>5</th>\n",
       "      <td>2</td>\n",
       "      <td>4</td>\n",
       "      <td>1</td>\n",
       "      <td>3</td>\n",
       "      <td>0</td>\n",
       "      <td>231</td>\n",
       "      <td>1</td>\n",
       "      <td>0</td>\n",
       "      <td>0</td>\n",
       "      <td>5</td>\n",
       "      <td>5</td>\n",
       "      <td>139</td>\n",
       "      <td>1</td>\n",
       "      <td>0</td>\n",
       "    </tr>\n",
       "    <tr>\n",
       "      <th>6</th>\n",
       "      <td>1</td>\n",
       "      <td>4</td>\n",
       "      <td>2</td>\n",
       "      <td>3</td>\n",
       "      <td>0</td>\n",
       "      <td>447</td>\n",
       "      <td>1</td>\n",
       "      <td>1</td>\n",
       "      <td>0</td>\n",
       "      <td>5</td>\n",
       "      <td>5</td>\n",
       "      <td>217</td>\n",
       "      <td>1</td>\n",
       "      <td>0</td>\n",
       "    </tr>\n",
       "  </tbody>\n",
       "</table>\n",
       "</div>"
      ],
      "text/plain": [
       "  age job marital education  default  balance  housing  loan contact  day  \\\n",
       "0   2   4       1         3        0     2143        1     0       0    5   \n",
       "1   2   9       2         2        0       29        1     0       0    5   \n",
       "2   2   2       1         2        0        2        1     1       0    5   \n",
       "5   2   4       1         3        0      231        1     0       0    5   \n",
       "6   1   4       2         3        0      447        1     1       0    5   \n",
       "\n",
       "   month  duration  campaign  y  \n",
       "0      5       261         1  0  \n",
       "1      5       151         1  0  \n",
       "2      5        76         1  0  \n",
       "5      5       139         1  0  \n",
       "6      5       217         1  0  "
      ]
     },
     "execution_count": 26,
     "metadata": {},
     "output_type": "execute_result"
    }
   ],
   "source": [
    "#getting our codes for our categorical data\n",
    "\n",
    "from sklearn.preprocessing import LabelEncoder\n",
    "le = LabelEncoder()\n",
    "\n",
    "#fitting our categorical data\n",
    "for cat in ['job', 'marital', 'contact']:\n",
    "    df[cat] = le.fit_transform(df[cat])\n",
    "    df[cat] = df[cat].astype('category')\n",
    "\n",
    "#checking our data\n",
    "df.head()\n",
    "\n",
    "\n",
    "\n",
    "\n",
    "\n"
   ]
  },
  {
   "cell_type": "code",
   "execution_count": 27,
   "metadata": {},
   "outputs": [
    {
     "data": {
      "text/plain": [
       "['job', 'marital', 'education', 'contact', 'age']"
      ]
     },
     "execution_count": 27,
     "metadata": {},
     "output_type": "execute_result"
    }
   ],
   "source": [
    "categorical_features"
   ]
  },
  {
   "cell_type": "code",
   "execution_count": 28,
   "metadata": {},
   "outputs": [
    {
     "name": "stdout",
     "output_type": "stream",
     "text": [
      "<class 'pandas.core.frame.DataFrame'>\n",
      "Int64Index: 38338 entries, 0 to 39999\n",
      "Data columns (total 14 columns):\n",
      " #   Column     Non-Null Count  Dtype   \n",
      "---  ------     --------------  -----   \n",
      " 0   age        38338 non-null  category\n",
      " 1   job        38338 non-null  category\n",
      " 2   marital    38338 non-null  category\n",
      " 3   education  38338 non-null  category\n",
      " 4   default    38338 non-null  int64   \n",
      " 5   balance    38338 non-null  int64   \n",
      " 6   housing    38338 non-null  int64   \n",
      " 7   loan       38338 non-null  int64   \n",
      " 8   contact    38338 non-null  category\n",
      " 9   day        38338 non-null  int64   \n",
      " 10  month      38338 non-null  int64   \n",
      " 11  duration   38338 non-null  int64   \n",
      " 12  campaign   38338 non-null  int64   \n",
      " 13  y          38338 non-null  int64   \n",
      "dtypes: category(5), int64(9)\n",
      "memory usage: 3.1 MB\n"
     ]
    }
   ],
   "source": [
    "df.info()"
   ]
  },
  {
   "cell_type": "markdown",
   "metadata": {},
   "source": [
    "### Correlation matrix"
   ]
  },
  {
   "cell_type": "code",
   "execution_count": 29,
   "metadata": {},
   "outputs": [
    {
     "data": {
      "text/plain": [
       "age          float64\n",
       "job          float64\n",
       "marital      float64\n",
       "education    float64\n",
       "default        int64\n",
       "balance        int64\n",
       "housing        int64\n",
       "loan           int64\n",
       "contact      float64\n",
       "day            int64\n",
       "month          int64\n",
       "duration       int64\n",
       "campaign       int64\n",
       "y              int64\n",
       "dtype: object"
      ]
     },
     "execution_count": 29,
     "metadata": {},
     "output_type": "execute_result"
    }
   ],
   "source": [
    "#we now transform categorical data into numerical data as they are already encoded\n",
    "\n",
    "for col in df.columns:\n",
    "    if df[col].dtype == 'category':\n",
    "        df[col] = df[col].astype('float64')\n",
    "\n",
    "df.dtypes\n",
    "\n"
   ]
  },
  {
   "cell_type": "code",
   "execution_count": 30,
   "metadata": {},
   "outputs": [
    {
     "data": {
      "text/plain": [
       "<Axes: >"
      ]
     },
     "execution_count": 30,
     "metadata": {},
     "output_type": "execute_result"
    },
    {
     "data": {
      "image/png": "[encoded data removed]",
      "text/plain": [
       "<Figure size 1000x1000 with 2 Axes>"
      ]
     },
     "metadata": {},
     "output_type": "display_data"
    }
   ],
   "source": [
    "#importing and checking the correlation of matrix\n",
    "import seaborn as sns\n",
    "import matplotlib.pyplot as plt\n",
    "%matplotlib inline\n",
    "corr = df.corr()\n",
    "plt.figure(figsize=(10,10))\n",
    "sns.heatmap(corr, annot=True, cmap='coolwarm')\n"
   ]
  },
  {
   "cell_type": "code",
   "execution_count": 31,
   "metadata": {},
   "outputs": [
    {
     "data": {
      "image/png": "[encoded data removed]",
      "text/plain": [
       "<Figure size 1000x500 with 1 Axes>"
      ]
     },
     "metadata": {},
     "output_type": "display_data"
    }
   ],
   "source": [
    "correlation_series = df.corr()[['y']]\n",
    "correlation_series = correlation_series.apply(lambda x: abs(x)).sort_values('y', ascending=False)\n",
    "correlation_series.plot.bar(figsize=(10, 5), title='Correlation with y', legend=False);"
   ]
  },
  {
   "cell_type": "markdown",
   "metadata": {},
   "source": [
    "Well, default is missing a lot as we saw above. Its the only column that has more than 5% missing values. We can drop it, because as we can see, the correlation with the target variable is very low. We can also drop default and day, as day has no pratical meaning for us.\n",
    "\n",
    "We can see that the month variable has some meaning for us, so we can keep that as it can represent seasonality.\n",
    "\n",
    "Its is also worth noting that marital status and age are moderately correlated, and it makes sense, because the older the person are, the more likely they are to be married. Also, that not a strong correlation so we can keep the 2 of them."
   ]
  },
  {
   "cell_type": "code",
   "execution_count": 32,
   "metadata": {},
   "outputs": [],
   "source": [
    "#droping cols\n",
    "df = df.drop(['contact', 'default', 'day'], axis=1)"
   ]
  },
  {
   "cell_type": "code",
   "execution_count": 33,
   "metadata": {},
   "outputs": [
    {
     "data": {
      "text/plain": [
       "<Axes: title={'center': 'Number of samples per class'}>"
      ]
     },
     "execution_count": 33,
     "metadata": {},
     "output_type": "execute_result"
    },
    {
     "data": {
      "image/png": "[encoded data removed]",
      "text/plain": [
       "<Figure size 640x480 with 1 Axes>"
      ]
     },
     "metadata": {},
     "output_type": "display_data"
    }
   ],
   "source": [
    "df['y'].value_counts().plot(kind='bar', title='Number of samples per class')"
   ]
  },
  {
   "cell_type": "code",
   "execution_count": 34,
   "metadata": {},
   "outputs": [
    {
     "data": {
      "text/plain": [
       "(38338, 11)"
      ]
     },
     "execution_count": 34,
     "metadata": {},
     "output_type": "execute_result"
    }
   ],
   "source": [
    "df.shape"
   ]
  },
  {
   "cell_type": "code",
   "execution_count": 35,
   "metadata": {},
   "outputs": [],
   "source": [
    "#creating our training and test set - Spliting the dataset into a training set and a test set\n",
    "df_train, df_test = train_test_split(df, test_size=0.2, random_state=42)"
   ]
  },
  {
   "cell_type": "code",
   "execution_count": 36,
   "metadata": {},
   "outputs": [
    {
     "name": "stdout",
     "output_type": "stream",
     "text": [
      "Shape of data train: (30670, 11)\n",
      "Shape of data test: (7668, 11)\n"
     ]
    }
   ],
   "source": [
    "#print shape of data train and test\n",
    "print('Shape of data train:', df_train.shape)\n",
    "print('Shape of data test:', df_test.shape)"
   ]
  },
  {
   "cell_type": "code",
   "execution_count": 37,
   "metadata": {},
   "outputs": [
    {
     "name": "stdout",
     "output_type": "stream",
     "text": [
      "(7668, 10)\n",
      "(7668,)\n"
     ]
    }
   ],
   "source": [
    "#Test data\n",
    "X_test = df_test.drop(['y'], axis=1)\n",
    "y_test = df_test['y']\n",
    "\n",
    "print(X_test.shape)\n",
    "print(y_test.shape)"
   ]
  },
  {
   "cell_type": "code",
   "execution_count": 38,
   "metadata": {},
   "outputs": [
    {
     "name": "stdout",
     "output_type": "stream",
     "text": [
      "X shape:  (30670, 10)\n",
      "y shape:  (30670,)\n"
     ]
    }
   ],
   "source": [
    "# getting our dataset into the feature matrix and the target vector\n",
    "\n",
    "X_train = df_train.drop('y', axis=1)\n",
    "y_train = df_train['y']\n",
    "\n",
    "print('X shape: ', X_train.shape)\n",
    "print('y shape: ', y_train.shape)\n",
    "\n"
   ]
  },
  {
   "cell_type": "markdown",
   "metadata": {},
   "source": [
    "## Oversampling strategy: SMOTENC, sampling_strategy = 'minority'"
   ]
  },
  {
   "cell_type": "code",
   "execution_count": 39,
   "metadata": {},
   "outputs": [
    {
     "data": {
      "image/png": "[encoded data removed]",
      "text/plain": [
       "<Figure size 640x480 with 1 Axes>"
      ]
     },
     "metadata": {},
     "output_type": "display_data"
    }
   ],
   "source": [
    "#Dealing with data imbalance with SMOTE to oversample the minority class\n",
    "#https://www.kaggle.com/rafjaa/resampling-strategies-for-imbalanced-datasets\n",
    "\n",
    "smote = SMOTE(random_state=42, sampling_strategy='minority')\n",
    "X_sm_train, y_sm_train = smote.fit_resample(X_train, y_train)\n",
    "\n",
    "y_sm_train.value_counts().plot(kind='bar', title='Count (target)\\n Total: {}'.format(len(y_sm_train)), color='b');"
   ]
  },
  {
   "cell_type": "markdown",
   "metadata": {},
   "source": [
    "Nice, now our dataset is balanced with SMOTENC, a oversampling techinique for categorical and continuous features. It uses k-nearest neighbors to create synthetic samples using the distances of the classes clusters, so it create new data points between the existing ones. This is a good technique to use when we have a small dataset and we want to balance it."
   ]
  },
  {
   "cell_type": "markdown",
   "metadata": {},
   "source": [
    "## Undersampling Strategy"
   ]
  },
  {
   "cell_type": "code",
   "execution_count": 40,
   "metadata": {},
   "outputs": [],
   "source": [
    "#undersamplig the training data\n",
    "from imblearn.under_sampling import RandomUnderSampler\n",
    "rus = RandomUnderSampler(random_state=42)\n",
    "X_train_res, y_train_res = rus.fit_resample(X_train, y_train)\n"
   ]
  },
  {
   "cell_type": "code",
   "execution_count": 41,
   "metadata": {},
   "outputs": [
    {
     "data": {
      "image/png": "[encoded data removed]",
      "text/plain": [
       "<Figure size 1000x600 with 1 Axes>"
      ]
     },
     "metadata": {},
     "output_type": "display_data"
    }
   ],
   "source": [
    "#plot \n",
    "y_train_res.value_counts().plot(kind='bar', figsize=(10,6), color = 'green', title = 'Count (target) \\n Total: {}'.format(len(y_train_res)));"
   ]
  },
  {
   "cell_type": "markdown",
   "metadata": {},
   "source": [
    "## Step 5: Baseline Model\n",
    "\n",
    "- Select a simple machine learning model as a baseline, such as Logistic Regression or Decision Tree Classifier.\n",
    "- Split the data into training and testing sets.\n",
    "- Train the baseline model using the training data.\n",
    "- Evaluate the model's performance on the testing data using appropriate evaluation metrics (e.g., accuracy, precision, recall, F1-score, ROC-AUC)."
   ]
  },
  {
   "cell_type": "markdown",
   "metadata": {},
   "source": [
    "Main metric: F1 SCORE. ROC score does not indicate the truth about how good our model is because it does not take in account that the data set is inbalanced"
   ]
  },
  {
   "cell_type": "code",
   "execution_count": 42,
   "metadata": {},
   "outputs": [],
   "source": [
    "#metrics\n",
    "from sklearn.metrics import f1_score\n",
    "#cross validation\n",
    "from sklearn.model_selection import cross_val_score"
   ]
  },
  {
   "cell_type": "markdown",
   "metadata": {},
   "source": [
    "Balanced dataset with overasampling used for training the algorithm"
   ]
  },
  {
   "cell_type": "code",
   "execution_count": 43,
   "metadata": {},
   "outputs": [
    {
     "name": "stdout",
     "output_type": "stream",
     "text": [
      "Train F1 score:  0.8598676512537532\n"
     ]
    }
   ],
   "source": [
    "lr = LogisticRegression()\n",
    "print('Train F1 score: ', cross_val_score(lr, X_sm_train, y_sm_train, cv=5, scoring='f1').mean())\n",
    "\n"
   ]
  },
  {
   "cell_type": "markdown",
   "metadata": {},
   "source": [
    "Performance on test set"
   ]
  },
  {
   "cell_type": "code",
   "execution_count": 44,
   "metadata": {},
   "outputs": [
    {
     "name": "stdout",
     "output_type": "stream",
     "text": [
      "F1 score:  0.4067262217551234\n"
     ]
    }
   ],
   "source": [
    "#f1 score\n",
    "\n",
    "lr.fit(X_sm_train, y_sm_train)\n",
    "oversampling_preds = lr.predict(X_test)\n",
    "\n",
    "print(\"F1 score: \", f1_score(y_test, oversampling_preds))\n"
   ]
  },
  {
   "cell_type": "markdown",
   "metadata": {},
   "source": [
    "Balanced dataset with overasampling used for training the algorithm"
   ]
  },
  {
   "cell_type": "code",
   "execution_count": 45,
   "metadata": {},
   "outputs": [
    {
     "name": "stdout",
     "output_type": "stream",
     "text": [
      "Train F1 score:  0.8086250673959123\n"
     ]
    }
   ],
   "source": [
    "lr_under = LogisticRegression()\n",
    "\n",
    "print('Train F1 score: ', cross_val_score(lr_under, X_train_res, y_train_res, cv=5, scoring='f1').mean())\n",
    "\n"
   ]
  },
  {
   "cell_type": "markdown",
   "metadata": {},
   "source": [
    "Performance on test set"
   ]
  },
  {
   "cell_type": "code",
   "execution_count": 49,
   "metadata": {},
   "outputs": [
    {
     "name": "stdout",
     "output_type": "stream",
     "text": [
      "Train f1 score:  0.8168373151308305\n",
      "f1 score:  0.4063272367770638\n"
     ]
    }
   ],
   "source": [
    "#f1 score\n",
    "\n",
    "lr_under.fit(X_train_res, y_train_res)\n",
    "print('Train f1 score: ', f1_score(y_train_res, lr_under.predict(X_train_res)))\n",
    "y_pred = lr_under.predict(X_test)\n",
    "print('f1 score: ', f1_score(y_test, y_pred))"
   ]
  },
  {
   "cell_type": "code",
   "execution_count": 47,
   "metadata": {},
   "outputs": [
    {
     "name": "stdout",
     "output_type": "stream",
     "text": [
      "F1 score:  0.4063272367770638\n"
     ]
    }
   ],
   "source": [
    "#f1 score\n",
    "\n",
    "lr_under.fit(X_train_res, y_train_res)\n",
    "undersampling_preds = lr_under.predict(X_test)\n",
    "\n",
    "print(\"F1 score: \", f1_score(y_test, undersampling_preds))"
   ]
  },
  {
   "cell_type": "markdown",
   "metadata": {},
   "source": [
    "saving undersampled data and test set"
   ]
  },
  {
   "cell_type": "code",
   "execution_count": 53,
   "metadata": {},
   "outputs": [],
   "source": [
    "#test set\n",
    "df_test.to_csv('../data/preprocessed/df_test.csv', index=False)\n",
    "#undersampled train set\n",
    "X_train_res.merge(y_train_res, left_index=True, right_index=True).to_csv('../data/preprocessed/df_train.csv', index=False)"
   ]
  },
  {
   "cell_type": "markdown",
   "metadata": {},
   "source": [
    "## Step 6: Interpretation and Analysis\n",
    "\n",
    "- Interpret the baseline model's results and identify areas of improvement.\n",
    "- Analyze which features have the most significant impact on the target variable."
   ]
  },
  {
   "cell_type": "markdown",
   "metadata": {},
   "source": [
    "As we can see, baseline model was not good enough to predict the target variable. We will try to improve the model by adding more features and using more complex models.\n",
    "\n",
    "We are also going to use undersampling to deal with the imbalanced dataset, as it is way more reliable than oversampling, and the results were similar for f1-score in both cases."
   ]
  },
  {
   "cell_type": "markdown",
   "metadata": {},
   "source": [
    "## Step 7: Future Steps and Iteration\n",
    "\n",
    "- Based on the insights gained from EDA and the baseline model, plan the next steps in the data science project, which may include more advanced modeling techniques, feature selection, hyperparameter tuning, and model evaluation.\n"
   ]
  }
 ],
 "metadata": {
  "kernelspec": {
   "display_name": "Python 3",
   "language": "python",
   "name": "python3"
  },
  "language_info": {
   "codemirror_mode": {
    "name": "ipython",
    "version": 3
   },
   "file_extension": ".py",
   "mimetype": "text/x-python",
   "name": "python",
   "nbconvert_exporter": "python",
   "pygments_lexer": "ipython3",
   "version": "3.11.4"
  },
  "orig_nbformat": 4
 },
 "nbformat": 4,
 "nbformat_minor": 2
}
